{
 "cells": [
  {
   "cell_type": "markdown",
   "id": "65ec3ccc",
   "metadata": {},
   "source": [
    "**Submit Python code**"
   ]
  },
  {
   "cell_type": "markdown",
   "id": "a31dcefd",
   "metadata": {},
   "source": [
    "**Perform a hypothesis test in Python**"
   ]
  },
  {
   "cell_type": "markdown",
   "id": "12c581e9",
   "metadata": {},
   "source": [
    "We will use the dataset provided in the `brain_size.csv` file (Dietz et al, 2017) along with the following `scipy.stats` functions.\n",
    "\n",
    "* `ttest_1samp`\n",
    "\n",
    "\n",
    "* `vttest_ind`\n",
    "\n",
    "\n",
    "* `ttest_rel`\n",
    "\n",
    "Perform the following hypothesis tests:\n",
    "\n",
    "1. VIQ = 0 (one-sample t-test)<br><br>\n",
    "\n",
    "2. female_viq = male_viq (two-sample t-test)<br><br>\n",
    "\n",
    "3. FSIQ = PIQ (paired t-test)"
   ]
  },
  {
   "cell_type": "markdown",
   "id": "f7200798",
   "metadata": {},
   "source": [
    "From Dietz et al (2017):\n",
    "\n",
    "- Full Scale Intelligence Quotient (FSIQ)\n",
    "\n",
    "\n",
    "- Verbal Intelligence Quotient (VIQ)\n",
    "\n",
    "\n",
    "- Performance Intelligence Quotient (PIQ)"
   ]
  },
  {
   "cell_type": "markdown",
   "id": "d8c42488",
   "metadata": {},
   "source": [
    "### Importing various libraries"
   ]
  },
  {
   "cell_type": "code",
   "execution_count": 1,
   "id": "24f82db5",
   "metadata": {},
   "outputs": [],
   "source": [
    "import pandas as pd\n",
    "import scipy.stats as stats"
   ]
  },
  {
   "cell_type": "markdown",
   "id": "833340b3",
   "metadata": {},
   "source": [
    "## Loading data"
   ]
  },
  {
   "cell_type": "code",
   "execution_count": 2,
   "id": "72b2dafc",
   "metadata": {},
   "outputs": [],
   "source": [
    "file = 'brain_size.csv'\n",
    "data = pd.read_csv(file, sep=';', quotechar='\"')"
   ]
  },
  {
   "cell_type": "code",
   "execution_count": 3,
   "id": "b6acf366",
   "metadata": {},
   "outputs": [
    {
     "data": {
      "text/html": [
       "<div>\n",
       "<style scoped>\n",
       "    .dataframe tbody tr th:only-of-type {\n",
       "        vertical-align: middle;\n",
       "    }\n",
       "\n",
       "    .dataframe tbody tr th {\n",
       "        vertical-align: top;\n",
       "    }\n",
       "\n",
       "    .dataframe thead th {\n",
       "        text-align: right;\n",
       "    }\n",
       "</style>\n",
       "<table border=\"1\" class=\"dataframe\">\n",
       "  <thead>\n",
       "    <tr style=\"text-align: right;\">\n",
       "      <th></th>\n",
       "      <th>Unnamed: 0</th>\n",
       "      <th>Gender</th>\n",
       "      <th>FSIQ</th>\n",
       "      <th>VIQ</th>\n",
       "      <th>PIQ</th>\n",
       "      <th>Weight</th>\n",
       "      <th>Height</th>\n",
       "      <th>MRI_Count</th>\n",
       "    </tr>\n",
       "  </thead>\n",
       "  <tbody>\n",
       "    <tr>\n",
       "      <th>0</th>\n",
       "      <td>1</td>\n",
       "      <td>Female</td>\n",
       "      <td>133</td>\n",
       "      <td>132</td>\n",
       "      <td>124</td>\n",
       "      <td>118</td>\n",
       "      <td>64.5</td>\n",
       "      <td>816932</td>\n",
       "    </tr>\n",
       "    <tr>\n",
       "      <th>1</th>\n",
       "      <td>2</td>\n",
       "      <td>Male</td>\n",
       "      <td>140</td>\n",
       "      <td>150</td>\n",
       "      <td>124</td>\n",
       "      <td>.</td>\n",
       "      <td>72.5</td>\n",
       "      <td>1001121</td>\n",
       "    </tr>\n",
       "    <tr>\n",
       "      <th>2</th>\n",
       "      <td>3</td>\n",
       "      <td>Male</td>\n",
       "      <td>139</td>\n",
       "      <td>123</td>\n",
       "      <td>150</td>\n",
       "      <td>143</td>\n",
       "      <td>73.3</td>\n",
       "      <td>1038437</td>\n",
       "    </tr>\n",
       "    <tr>\n",
       "      <th>3</th>\n",
       "      <td>4</td>\n",
       "      <td>Male</td>\n",
       "      <td>133</td>\n",
       "      <td>129</td>\n",
       "      <td>128</td>\n",
       "      <td>172</td>\n",
       "      <td>68.8</td>\n",
       "      <td>965353</td>\n",
       "    </tr>\n",
       "    <tr>\n",
       "      <th>4</th>\n",
       "      <td>5</td>\n",
       "      <td>Female</td>\n",
       "      <td>137</td>\n",
       "      <td>132</td>\n",
       "      <td>134</td>\n",
       "      <td>147</td>\n",
       "      <td>65.0</td>\n",
       "      <td>951545</td>\n",
       "    </tr>\n",
       "  </tbody>\n",
       "</table>\n",
       "</div>"
      ],
      "text/plain": [
       "   Unnamed: 0  Gender  FSIQ  VIQ  PIQ Weight Height  MRI_Count\n",
       "0           1  Female   133  132  124    118   64.5     816932\n",
       "1           2    Male   140  150  124      .   72.5    1001121\n",
       "2           3    Male   139  123  150    143   73.3    1038437\n",
       "3           4    Male   133  129  128    172   68.8     965353\n",
       "4           5  Female   137  132  134    147   65.0     951545"
      ]
     },
     "execution_count": 3,
     "metadata": {},
     "output_type": "execute_result"
    }
   ],
   "source": [
    "data.head()"
   ]
  },
  {
   "cell_type": "code",
   "execution_count": 4,
   "id": "51efd1b8",
   "metadata": {},
   "outputs": [
    {
     "data": {
      "text/html": [
       "<div>\n",
       "<style scoped>\n",
       "    .dataframe tbody tr th:only-of-type {\n",
       "        vertical-align: middle;\n",
       "    }\n",
       "\n",
       "    .dataframe tbody tr th {\n",
       "        vertical-align: top;\n",
       "    }\n",
       "\n",
       "    .dataframe thead th {\n",
       "        text-align: right;\n",
       "    }\n",
       "</style>\n",
       "<table border=\"1\" class=\"dataframe\">\n",
       "  <thead>\n",
       "    <tr style=\"text-align: right;\">\n",
       "      <th></th>\n",
       "      <th>Unnamed: 0</th>\n",
       "      <th>FSIQ</th>\n",
       "      <th>VIQ</th>\n",
       "      <th>PIQ</th>\n",
       "      <th>MRI_Count</th>\n",
       "    </tr>\n",
       "  </thead>\n",
       "  <tbody>\n",
       "    <tr>\n",
       "      <th>count</th>\n",
       "      <td>40.000000</td>\n",
       "      <td>40.000000</td>\n",
       "      <td>40.000000</td>\n",
       "      <td>40.00000</td>\n",
       "      <td>4.000000e+01</td>\n",
       "    </tr>\n",
       "    <tr>\n",
       "      <th>mean</th>\n",
       "      <td>20.500000</td>\n",
       "      <td>113.450000</td>\n",
       "      <td>112.350000</td>\n",
       "      <td>111.02500</td>\n",
       "      <td>9.087550e+05</td>\n",
       "    </tr>\n",
       "    <tr>\n",
       "      <th>std</th>\n",
       "      <td>11.690452</td>\n",
       "      <td>24.082071</td>\n",
       "      <td>23.616107</td>\n",
       "      <td>22.47105</td>\n",
       "      <td>7.228205e+04</td>\n",
       "    </tr>\n",
       "    <tr>\n",
       "      <th>min</th>\n",
       "      <td>1.000000</td>\n",
       "      <td>77.000000</td>\n",
       "      <td>71.000000</td>\n",
       "      <td>72.00000</td>\n",
       "      <td>7.906190e+05</td>\n",
       "    </tr>\n",
       "    <tr>\n",
       "      <th>25%</th>\n",
       "      <td>10.750000</td>\n",
       "      <td>89.750000</td>\n",
       "      <td>90.000000</td>\n",
       "      <td>88.25000</td>\n",
       "      <td>8.559185e+05</td>\n",
       "    </tr>\n",
       "    <tr>\n",
       "      <th>50%</th>\n",
       "      <td>20.500000</td>\n",
       "      <td>116.500000</td>\n",
       "      <td>113.000000</td>\n",
       "      <td>115.00000</td>\n",
       "      <td>9.053990e+05</td>\n",
       "    </tr>\n",
       "    <tr>\n",
       "      <th>75%</th>\n",
       "      <td>30.250000</td>\n",
       "      <td>135.500000</td>\n",
       "      <td>129.750000</td>\n",
       "      <td>128.00000</td>\n",
       "      <td>9.500780e+05</td>\n",
       "    </tr>\n",
       "    <tr>\n",
       "      <th>max</th>\n",
       "      <td>40.000000</td>\n",
       "      <td>144.000000</td>\n",
       "      <td>150.000000</td>\n",
       "      <td>150.00000</td>\n",
       "      <td>1.079549e+06</td>\n",
       "    </tr>\n",
       "  </tbody>\n",
       "</table>\n",
       "</div>"
      ],
      "text/plain": [
       "       Unnamed: 0        FSIQ         VIQ        PIQ     MRI_Count\n",
       "count   40.000000   40.000000   40.000000   40.00000  4.000000e+01\n",
       "mean    20.500000  113.450000  112.350000  111.02500  9.087550e+05\n",
       "std     11.690452   24.082071   23.616107   22.47105  7.228205e+04\n",
       "min      1.000000   77.000000   71.000000   72.00000  7.906190e+05\n",
       "25%     10.750000   89.750000   90.000000   88.25000  8.559185e+05\n",
       "50%     20.500000  116.500000  113.000000  115.00000  9.053990e+05\n",
       "75%     30.250000  135.500000  129.750000  128.00000  9.500780e+05\n",
       "max     40.000000  144.000000  150.000000  150.00000  1.079549e+06"
      ]
     },
     "execution_count": 4,
     "metadata": {},
     "output_type": "execute_result"
    }
   ],
   "source": [
    "data.describe()"
   ]
  },
  {
   "cell_type": "code",
   "execution_count": 5,
   "id": "1407998b",
   "metadata": {},
   "outputs": [
    {
     "name": "stdout",
     "output_type": "stream",
     "text": [
      "<class 'pandas.core.frame.DataFrame'>\n",
      "RangeIndex: 40 entries, 0 to 39\n",
      "Data columns (total 8 columns):\n",
      " #   Column      Non-Null Count  Dtype \n",
      "---  ------      --------------  ----- \n",
      " 0   Unnamed: 0  40 non-null     int64 \n",
      " 1   Gender      40 non-null     object\n",
      " 2   FSIQ        40 non-null     int64 \n",
      " 3   VIQ         40 non-null     int64 \n",
      " 4   PIQ         40 non-null     int64 \n",
      " 5   Weight      40 non-null     object\n",
      " 6   Height      40 non-null     object\n",
      " 7   MRI_Count   40 non-null     int64 \n",
      "dtypes: int64(5), object(3)\n",
      "memory usage: 2.6+ KB\n"
     ]
    }
   ],
   "source": [
    "data.info()"
   ]
  },
  {
   "cell_type": "code",
   "execution_count": 6,
   "id": "001dcae7",
   "metadata": {
    "scrolled": false
   },
   "outputs": [
    {
     "data": {
      "text/plain": [
       "Unnamed: 0    0\n",
       "Gender        0\n",
       "FSIQ          0\n",
       "VIQ           0\n",
       "PIQ           0\n",
       "Weight        0\n",
       "Height        0\n",
       "MRI_Count     0\n",
       "dtype: int64"
      ]
     },
     "execution_count": 6,
     "metadata": {},
     "output_type": "execute_result"
    }
   ],
   "source": [
    "# Checking for missing values in the dataset\n",
    "missing_values = data.isnull().sum()\n",
    "missing_values"
   ]
  },
  {
   "cell_type": "markdown",
   "id": "d63e44db",
   "metadata": {},
   "source": []
  },
  {
   "cell_type": "markdown",
   "id": "9a44d295",
   "metadata": {},
   "source": []
  },
  {
   "cell_type": "markdown",
   "id": "b961414d",
   "metadata": {},
   "source": [
    "# Hypothesis Test 1: VIQ = 0 (One-sample t-test)\n"
   ]
  },
  {
   "cell_type": "markdown",
   "id": "e37f5181",
   "metadata": {},
   "source": [
    "### Purpose: Test if the average Verbal Intelligence Quotient (VIQ) is significantly different from 0\n"
   ]
  },
  {
   "cell_type": "code",
   "execution_count": 18,
   "id": "7b05edba",
   "metadata": {},
   "outputs": [],
   "source": [
    "viq_test_result = stats.ttest_1samp(data['VIQ'], 0)"
   ]
  },
  {
   "cell_type": "code",
   "execution_count": 19,
   "id": "2d9c49f7",
   "metadata": {},
   "outputs": [
    {
     "data": {
      "text/plain": [
       "TtestResult(statistic=30.08809997084933, pvalue=1.3289196468727975e-28, df=39)"
      ]
     },
     "execution_count": 19,
     "metadata": {},
     "output_type": "execute_result"
    }
   ],
   "source": [
    "viq_test_result"
   ]
  },
  {
   "cell_type": "code",
   "execution_count": 20,
   "id": "484e7f06",
   "metadata": {
    "scrolled": true
   },
   "outputs": [
    {
     "name": "stdout",
     "output_type": "stream",
     "text": [
      "One-sample t-test for VIQ = 0:\n",
      "Test Statistic: 30.09\n",
      "P-value: 1.33e-28\n"
     ]
    }
   ],
   "source": [
    "# result\n",
    "test_statistic, p_value = viq_test_result\n",
    "print(\"One-sample t-test for VIQ = 0:\")\n",
    "print(f\"Test Statistic: {test_statistic:.2f}\")\n",
    "print(f\"P-value: {p_value:.2e}\")"
   ]
  },
  {
   "cell_type": "code",
   "execution_count": 21,
   "id": "ef565904",
   "metadata": {},
   "outputs": [
    {
     "name": "stdout",
     "output_type": "stream",
     "text": [
      "Result: The average VIQ is significantly different from 0 at a 5% significance level.\n",
      "Conclusion: There is enough evidence to reject the null hypothesis.\n"
     ]
    }
   ],
   "source": [
    "# Interpretation based on the p-value\n",
    "alpha = 0.05  # Set your significance level\n",
    "\n",
    "if p_value < alpha:\n",
    "    print(\"Result: The average VIQ is significantly different from 0 at a 5% significance level.\")\n",
    "    print(\"Conclusion: There is enough evidence to reject the null hypothesis.\")\n",
    "else:\n",
    "    print(\"Result: There is no significant difference between the average VIQ and 0 at a 5% significance level.\")\n",
    "    print(\"Conclusion: Fail to reject the null hypothesis. Insufficient evidence to claim a significant difference.\")\n"
   ]
  },
  {
   "cell_type": "markdown",
   "id": "6fc4bbf0",
   "metadata": {},
   "source": [
    "### Test Statistic: 30.09\n",
    "### P-value: 1.33e-28\n",
    "    \n",
    "### A p-value of 1.33e-28 (which is 0.0000000000000000000000000133) is extremely small, almost negligible.\n",
    "### common threshold to reject the null hypothesis is 0.05. Since 1.33e-28 is far below this threshold, it indicates we would reject the null hypothesis and conclude that the average VIQ is significantly different from 0."
   ]
  },
  {
   "cell_type": "markdown",
   "id": "62af5c6a",
   "metadata": {},
   "source": [
    "### RESULT OF HYPOTHESIS TEST 1:\n",
    "### REJECT NULL HYPOTHESIS, The average VIQ is significantly different from 0.\n"
   ]
  },
  {
   "cell_type": "markdown",
   "id": "67fd6565",
   "metadata": {},
   "source": []
  },
  {
   "cell_type": "markdown",
   "id": "ffa61a06",
   "metadata": {},
   "source": []
  },
  {
   "cell_type": "markdown",
   "id": "97d7c2d3",
   "metadata": {},
   "source": [
    "# Hypothesis Test 2: Female VIQ = Male VIQ (Two-sample t-test)\n"
   ]
  },
  {
   "cell_type": "markdown",
   "id": "6856617b",
   "metadata": {},
   "source": [
    "### Purpose: Test if there is a significant difference in average VIQ scores between females and males\n"
   ]
  },
  {
   "cell_type": "code",
   "execution_count": 22,
   "id": "3248ae4e",
   "metadata": {},
   "outputs": [],
   "source": [
    "# Performing the two-sample t-test for Female VIQ = Male VIQ and printing the results\n",
    "female_viq = data[data['Gender'] == 'Female']['VIQ']\n",
    "male_viq = data[data['Gender'] == 'Male']['VIQ']\n",
    "viq_gender_test_result = stats.ttest_ind(female_viq, male_viq, nan_policy='omit')"
   ]
  },
  {
   "cell_type": "code",
   "execution_count": 23,
   "id": "4119c394",
   "metadata": {},
   "outputs": [
    {
     "name": "stdout",
     "output_type": "stream",
     "text": [
      "Two-sample t-test for Female VIQ = Male VIQ:\n",
      "Test Statistic: -0.77\n",
      "P-value: 4.45e-01\n"
     ]
    }
   ],
   "source": [
    "#result\n",
    "test_statistic, p_value = viq_gender_test_result\n",
    "print(\"Two-sample t-test for Female VIQ = Male VIQ:\")\n",
    "print(f\"Test Statistic: {test_statistic:.2f}\")\n",
    "print(f\"P-value: {p_value:.2e}\")"
   ]
  },
  {
   "cell_type": "code",
   "execution_count": 24,
   "id": "915d3527",
   "metadata": {},
   "outputs": [
    {
     "name": "stdout",
     "output_type": "stream",
     "text": [
      "Result: The p-value is greater than or equal to 0.05.\n",
      "Conclusion: There is no significant difference in average VIQ scores between females and males.\n"
     ]
    }
   ],
   "source": [
    "# Interpretation based on the p-value\n",
    "alpha = 0.05  # Set your significance level\n",
    "\n",
    "if p_value < alpha:\n",
    "    print(\"Result: The p-value is less than 0.05.\")\n",
    "    print(\"Conclusion: There is a significant difference in average VIQ scores between females and males.\")\n",
    "else:\n",
    "    print(\"Result: The p-value is greater than or equal to 0.05.\")\n",
    "    print(\"Conclusion: There is no significant difference in average VIQ scores between females and males.\")\n"
   ]
  },
  {
   "cell_type": "markdown",
   "id": "fb506bab",
   "metadata": {},
   "source": [
    "### Test Statistic: -0.77\n",
    "### P-value: 4.45e-01\n",
    "\n",
    "### Interpretation: The p-value is significantly above the conventional threshold of 0.05. This indicates that there is no significant difference in average VIQ scores between females and males. This result suggests that within this sample, gender does not have a significant impact on VIQ scores.\n",
    "\n",
    "### Therefore, we fail to reject null hypothesis"
   ]
  },
  {
   "cell_type": "markdown",
   "id": "453c5e6c",
   "metadata": {},
   "source": [
    "### RESULT OF HYPOTHESIS TEST 2:\n",
    "### FAIL TO REJECT NULL HYPOTHESIS,  there is no significant difference in average VIQ scores between females and males."
   ]
  },
  {
   "cell_type": "markdown",
   "id": "05fcfe20",
   "metadata": {},
   "source": []
  },
  {
   "cell_type": "markdown",
   "id": "5490666b",
   "metadata": {},
   "source": []
  },
  {
   "cell_type": "markdown",
   "id": "f2222cff",
   "metadata": {},
   "source": [
    "# Hypothesis Test 3: FSIQ = PIQ (Paired t-test)"
   ]
  },
  {
   "cell_type": "markdown",
   "id": "a34ada39",
   "metadata": {},
   "source": [
    "### Purpose: Test if there is a significant difference between Full Scale IQ (FSIQ) and Performance IQ (PIQ) in the same individuals\n"
   ]
  },
  {
   "cell_type": "code",
   "execution_count": 25,
   "id": "d27d7d39",
   "metadata": {},
   "outputs": [],
   "source": [
    "# Performing the paired t-test for FSIQ = PIQ and printing the results\n",
    "fsiq_piq_test_result = stats.ttest_rel(data['FSIQ'], data['PIQ'])"
   ]
  },
  {
   "cell_type": "code",
   "execution_count": 26,
   "id": "42dbca2c",
   "metadata": {
    "scrolled": true
   },
   "outputs": [
    {
     "name": "stdout",
     "output_type": "stream",
     "text": [
      "\n",
      "Paired t-test for FSIQ = PIQ:\n",
      "Test Statistic: 1.78\n",
      "P-value: 8.22e-02\n"
     ]
    }
   ],
   "source": [
    "# Display results\n",
    "test_statistic, p_value = fsiq_piq_test_result\n",
    "print(\"\\nPaired t-test for FSIQ = PIQ:\")\n",
    "print(f\"Test Statistic: {test_statistic:.2f}\")\n",
    "print(f\"P-value: {p_value:.2e}\")"
   ]
  },
  {
   "cell_type": "code",
   "execution_count": 27,
   "id": "2ed0eff6",
   "metadata": {},
   "outputs": [
    {
     "name": "stdout",
     "output_type": "stream",
     "text": [
      "Result: There is no significant difference between Full Scale IQ (FSIQ) and Performance IQ (PIQ) in the same individuals.\n"
     ]
    }
   ],
   "source": [
    "# Interpretation based on the p-value\n",
    "if p_value < 0.05:\n",
    "    # If the p-value is less than 0.05, we reject the null hypothesis\n",
    "    print(\"Result: There is a significant difference between Full Scale IQ (FSIQ) and Performance IQ (PIQ) in the same individuals.\")\n",
    "else:\n",
    "    # If the p-value is greater than or equal to 0.05, we fail to reject the null hypothesis\n",
    "    print(\"Result: There is no significant difference between Full Scale IQ (FSIQ) and Performance IQ (PIQ) in the same individuals.\")\n"
   ]
  },
  {
   "cell_type": "markdown",
   "id": "fd7c658c",
   "metadata": {},
   "source": [
    "### Test Statistic: 1.78\n",
    "\n",
    "### P-value: 8.22e-02\n",
    "\n",
    "### Interpretation: The p-value is higher than 0.05, suggesting that there is no significant difference between Full Scale IQ (FSIQ) and Performance IQ (PIQ) in the same individuals. This finding indicates a close relationship between FSIQ and PIQ measures within this dataset, implying that these two aspects of intelligence are closely linked for the individuals in this sample. "
   ]
  },
  {
   "cell_type": "markdown",
   "id": "4c6bd549",
   "metadata": {},
   "source": [
    "## RESULT OF HYPOTHESIS TEST 3:\n",
    "## Fail to Reject Null Hypothesis:  there is no significant difference between Full Scale IQ (FSIQ) and Performance IQ (PIQ) in the same individuals."
   ]
  },
  {
   "cell_type": "code",
   "execution_count": null,
   "id": "46c0cd16",
   "metadata": {},
   "outputs": [],
   "source": []
  },
  {
   "cell_type": "code",
   "execution_count": null,
   "id": "a022b937",
   "metadata": {},
   "outputs": [],
   "source": []
  },
  {
   "cell_type": "markdown",
   "id": "7f1f78f2",
   "metadata": {},
   "source": [
    "### OVERALL INTERPRETATION and CONCLUSION:"
   ]
  },
  {
   "cell_type": "markdown",
   "id": "ba0704a6",
   "metadata": {},
   "source": [
    "## One-sample t-test (VIQ not equal to 0):\n",
    "\n",
    "The one-sample t-test on VIQ scores was conducted to determine if the average VIQ score in our group significantly differs from 0. The very small p-value (below 0.05) suggests that the average VIQ score in our group is definitely not 0. This is reasonable, as a VIQ score of 0 is highly unlikely and would indicate a complete absence of verbal intelligence.\n",
    "\n",
    "## Two-sample t-test (Comparing VIQ in Females and Males):\n",
    "\n",
    "A two-sample t-test was performed to assess whether there is a significant difference in average VIQ scores between females and males in the group. The p-value being more than 0.05 implies that there is no significant difference in average VIQ scores between females and males. This indicates that, in this group, being female or male doesn't substantially impact VIQ scores.\n",
    "\n",
    "## Paired t-test (Comparing FSIQ and PIQ):\n",
    "\n",
    "For this analysis, a paired t-test was conducted on Full Scale IQ (FSIQ) and Performance IQ (PIQ) scores within the same individuals. The p-value higher than 0.05 suggests that there's no substantial difference between FSIQ and PIQ scores. This may imply that FSIQ and PIQ scores in this group measure similar aspects of intelligence. "
   ]
  },
  {
   "cell_type": "code",
   "execution_count": null,
   "id": "cc024633",
   "metadata": {},
   "outputs": [],
   "source": []
  }
 ],
 "metadata": {
  "kernelspec": {
   "display_name": "Python 3 (ipykernel)",
   "language": "python",
   "name": "python3"
  },
  "language_info": {
   "codemirror_mode": {
    "name": "ipython",
    "version": 3
   },
   "file_extension": ".py",
   "mimetype": "text/x-python",
   "name": "python",
   "nbconvert_exporter": "python",
   "pygments_lexer": "ipython3",
   "version": "3.11.5"
  }
 },
 "nbformat": 4,
 "nbformat_minor": 5
}
